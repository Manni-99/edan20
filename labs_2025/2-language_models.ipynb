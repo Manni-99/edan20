{
 "cells": [
  {
   "cell_type": "markdown",
   "metadata": {},
   "source": [
    "# Assignment #2: Language models\n",
    "Author: Pierre Nugues"
   ]
  },
  {
   "cell_type": "markdown",
   "metadata": {},
   "source": [
    "## Objectives"
   ]
  },
  {
   "cell_type": "markdown",
   "metadata": {},
   "source": [
    "The objectives of this assignment are to:\n",
    "* Write a program to find n-gram statistics\n",
    "* Compute the probability of a sentence\n",
    "* Know what a language model is\n",
    "* Write a short report of 1 to 2 pages on the assignment"
   ]
  },
  {
   "cell_type": "markdown",
   "metadata": {},
   "source": [
    "## Submission"
   ]
  },
  {
   "cell_type": "markdown",
   "metadata": {},
   "source": [
    "Once you have written all the missing code and run all the cells, you will show it to an instructor that will pass you."
   ]
  },
  {
   "cell_type": "markdown",
   "metadata": {},
   "source": [
    "## Organization"
   ]
  },
  {
   "cell_type": "markdown",
   "metadata": {},
   "source": [
    "* Each group will have to write Python programs to count unigrams, bigrams, and trigrams in a corpus of approximately one million words and to determine the probability of a sentence.\n",
    "* You can test you regular expression using the regex101.com site\n",
    "* Each student will have to write a short report of one to two pages and comment briefly the results. In your report, you must produce the tabulated results of your analysis as described below."
   ]
  },
  {
   "cell_type": "markdown",
   "metadata": {},
   "source": [
    "## Programming"
   ]
  },
  {
   "cell_type": "markdown",
   "metadata": {},
   "source": [
    "### Imports"
   ]
  },
  {
   "cell_type": "markdown",
   "metadata": {},
   "source": [
    "Some imports you may need. Add others as needed."
   ]
  },
  {
   "cell_type": "code",
   "execution_count": 159,
   "metadata": {},
   "outputs": [],
   "source": [
    "import bz2\n",
    "import math\n",
    "import os\n",
    "import regex as re\n",
    "import requests\n",
    "import sys\n",
    "from zipfile import ZipFile"
   ]
  },
  {
   "cell_type": "markdown",
   "metadata": {},
   "source": [
    "### Collecting and analyzing a corpus"
   ]
  },
  {
   "cell_type": "markdown",
   "metadata": {},
   "source": [
    "Retrieve a corpus of novels by Selma Lagerl&ouml;f from this URL:\n",
    "<a href=\"https://github.com/pnugues/ilppp/blob/master/programs/corpus/Selma.txt\">\n",
    "    <tt>https://github.com/pnugues/ilppp/blob/master/programs/corpus/Selma.txt</tt>\n",
    "</a>. The text of these novels was extracted\n",
    "from <a href=\"https://litteraturbanken.se/forfattare/LagerlofS/titlar\">Lagerlöf arkivet</a> at\n",
    "<a href=\"https://litteraturbanken.se/\">Litteraturbanken</a>."
   ]
  },
  {
   "cell_type": "code",
   "execution_count": 160,
   "metadata": {},
   "outputs": [],
   "source": [
    "# You may have to adjust the path\n",
    "corpus = open('./corpus/Selma.txt', encoding='utf8').read()"
   ]
  },
  {
   "cell_type": "markdown",
   "metadata": {},
   "source": [
    "Run the <a href=\"https://github.com/pnugues/ilppp/tree/master/programs/ch02/python\">concordance\n",
    "program </a> to print the lines containing a specific word, for instance <i>Nils</i>."
   ]
  },
  {
   "cell_type": "code",
   "execution_count": 161,
   "metadata": {},
   "outputs": [],
   "source": [
    "pattern = 'Nils Holgersson'\n",
    "width = 25"
   ]
  },
  {
   "cell_type": "code",
   "execution_count": 162,
   "metadata": {},
   "outputs": [
    {
     "name": "stdout",
     "output_type": "stream",
     "text": [
      "Selma Lagerlöf Nils Holgerssons underbara resa genom Sv\n",
      "! Se på Tummetott! Se på Nils Holgersson Tummetott!» Genast vände\n",
      "r,» sade han. »Jag heter Nils Holgersson och är son till en husma\n",
      "lden. »Inte är det värt, Nils Holgersson, att du är ängslig eller\n",
      " i dem. På den tiden, då Nils Holgersson drog omkring med vildgäs\n",
      "ulle allt visa honom vad Nils Holgersson från Västra Vemmenhög va\n",
      "om ägde rum det året, då Nils Holgersson for omkring med vildgäss\n",
      "m vad det kan kosta dem. Nils Holgersson hade inte haft förstånd \n",
      "de det inte mer sägas om Nils Holgersson, att han inte tyckte om \n",
      " Rosenbom?» För där stod Nils Holgersson mitt uppe på Rosenboms n\n",
      " Med ens fingo de syn på Nils Holgersson, och då sköt den store v\n",
      "vila. När vildgässen och Nils Holgersson äntligen hade letat sig \n",
      " slags arbetare. Men vad Nils Holgersson inte såg, det var, att s\n",
      "nde han fråga, och om då Nils Holgersson sade nej, började han ge\n",
      "de lille Mats, och om nu Nils Holgersson också hade tegat, så had\n",
      "åg så försmädlig ut, att Nils Holgersson kastade sig över honom f\n",
      " brodern. Och inte ville Nils Holgersson slåss med en tös, utan h\n",
      "örkar. På den tiden, när Nils Holgersson for omkring med vildgäss\n",
      " ryckte omkull honom. Om Nils Holgersson genast hade ropat på hjä\n",
      "u reda dig på egen hand, Nils Holgersson,» sade han då till sig s\n",
      "r satte Fumle-Drumle ner Nils Holgersson på bottnen av en sandgro\n",
      "mlingarna. – »Jo, jag är Nils Holgersson från Västra Vemmenhög, s\n",
      "rakten. På den tiden, då Nils Holgersson for omkring med vildgäss\n",
      "Jo, det står – Det står: Nils Holgersson fr. V. Vemmenhög.» »Det \n",
      "visan 1 Sveriges karta 2 Nils Holgerssons underbara resa genom Sv\n",
      "admalsvåden 233 ________ Nils Holgerssons underbara resa genom Sv\n",
      "R. Tolv år ungefär innan Nils Holgersson hade börjat resa omkring\n",
      "och leta efter föda, men Nils Holgersson hade på morgonen tappat \n",
      "ill i Närke det året, då Nils Holgersson for fram över landskapet\n",
      "hade flyttat tassen över Nils Holgerssons ansikte, så att den sta\n",
      "29 april. Denna dag fick Nils Holgersson se södra Dalarna. Vildgä\n",
      "rliga sjön. Det året, då Nils Holgersson for med vildgässen genom\n",
      "t skänka upptäckten till Nils Holgersson. Det var ju både det tro\n",
      " som sången varade, stod Nils Holgersson och lyssnade till den, m\n",
      "ova på en vassrugge. Vad Nils Holgersson angår, så var han för hu\n",
      "e svårt för en sådan som Nils Holgersson att finna en farkost. Ha\n",
      "r de hade kommit mittför Nils Holgersson, slogo de sig ner på ett\n",
      " 5 maj. På den tiden, då Nils Holgersson drog genom landet med vi\n",
      "an vara bra lycklig. Att Nils Holgersson, som för ett par timmar \n",
      " afton. Och således hade Nils Holgersson fått se studenterna, när\n",
      "nger under marschen. Men Nils Holgersson hade tyckt, att det inte\n",
      "och glädja så som dessa. Nils Holgersson hade mest sett på studen\n",
      "m, stannade han. »Jag är Nils Holgersson från Västra Vemmenhög,» \n",
      " Ett par år före det, då Nils Holgersson drog omkring med vildgäs\n",
      " detsamma fattade han om Nils Holgersson med sin stora fot, höjde\n",
      "t ingen mer än den lilla Nils Holgersson, som följde henne. Solen\n",
      " voro klädda med is, och Nils Holgersson ville följa henne dit in\n",
      "t Lappland är mitt!» Men Nils Holgersson hade blivit så ängslig, \n",
      " över klippväggarna, och Nils Holgersson kunde förstå, att det va\n",
      " SJUKDOMEN. Det året, då Nils Holgersson for omkring med vildgäss\n",
      "jligt att undgå den. Vad Nils Holgersson beträffar, så hade han h\n",
      "hade hon slagit klorna i Nils Holgerssons skuldra och hackade eft\n",
      "g, att just det året, då Nils Holgersson for omkring med vildgäss\n",
      " lönt att vara bedrövad, Nils Holgersson,» sade solen. »Världen ä\n",
      "åga om han inte kunde ge Nils Holgersson bättre villkor. ’Det öns\n",
      "du vill,’ sade han. ’Med Nils Holgersson blir det ändå så, som ja\n",
      "a haft av honom. Ja, säg Nils Holgersson, att föräldrarna redan h\n",
      "Västergötland. Den lille Nils Holgersson hade krupit upp på en la\n",
      " honom sämre.» Den lille Nils Holgersson hade följt med barnen he\n",
      "e bara störa.» Då tyckte Nils Holgersson, att när ingen annan gjo\n",
      "n färdig att följa det.» Nils Holgersson sprang raskt neråt vägen\n",
      "rott mellan de unga. Vad Nils Holgersson beträffar, så hade han i\n",
      "on gav sig tid att se på Nils Holgersson, innan hon stötte till. \n",
      " ändå alldeles olik. Den Nils Holgersson, som hade farit bort i v\n",
      " tro det. Välkommen hem, Nils Holgersson, välkommen hem! Det här \n",
      "mig här på gården,» sade Nils Holgersson. »Min egen mor tror, att\n",
      "on riktig sjukdom,» sade Nils Holgersson. »Jag får försöka ställa\n",
      "in kniv här på din hov?» Nils Holgersson var nätt och jämnt färdi\n",
      "sslingen, som var så lik Nils Holgersson, att om det inte var han\n",
      "pojken fanns i närheten. Nils Holgersson hörde honom nog, men han\n",
      "ottrar ihop ett tack för Nils Holgersson? Vad skulle det ha blivi\n"
     ]
    }
   ],
   "source": [
    "# spaces match tabs and newlines\n",
    "pattern = re.sub(' ', r'\\\\s+', pattern)\n",
    "# Replaces newlines with spaces in the text\n",
    "clean_corpus = re.sub(r'\\s+', ' ', corpus)\n",
    "concordance = ('(.{{0,{width}}}{pattern}.{{0,{width}}})'\n",
    "               .format(pattern=pattern, width=width))\n",
    "for match in re.finditer(concordance, clean_corpus):\n",
    "    print(match.group(1))\n",
    "# print the string with 0..width characters on either side\n"
   ]
  },
  {
   "cell_type": "markdown",
   "metadata": {},
   "source": [
    "Run a simple <a href=\"https://github.com/pnugues/ilppp/tree/master/programs/ch05/python\">tokenization\n",
    "program</a> on your corpus."
   ]
  },
  {
   "cell_type": "code",
   "execution_count": 163,
   "metadata": {},
   "outputs": [],
   "source": [
    "def tokenize(text):\n",
    "    words = re.findall(r'\\p{L}+', text)\n",
    "    return words"
   ]
  },
  {
   "cell_type": "code",
   "execution_count": 164,
   "metadata": {},
   "outputs": [
    {
     "data": {
      "text/plain": [
       "['Selma',\n",
       " 'Lagerlöf',\n",
       " 'Nils',\n",
       " 'Holgerssons',\n",
       " 'underbara',\n",
       " 'resa',\n",
       " 'genom',\n",
       " 'Sverige',\n",
       " 'Första',\n",
       " 'bandet']"
      ]
     },
     "execution_count": 164,
     "metadata": {},
     "output_type": "execute_result"
    }
   ],
   "source": [
    "words = tokenize(corpus)\n",
    "words[:10]"
   ]
  },
  {
   "cell_type": "markdown",
   "metadata": {},
   "source": [
    "Count the number of unique words in the original corpus and when setting all the words in lowercase"
   ]
  },
  {
   "cell_type": "markdown",
   "metadata": {},
   "source": [
    "Original text"
   ]
  },
  {
   "cell_type": "code",
   "execution_count": 165,
   "metadata": {},
   "outputs": [
    {
     "name": "stdout",
     "output_type": "stream",
     "text": [
      "Unique words (original case): 44256\n"
     ]
    }
   ],
   "source": [
    "# Write your code here\n",
    "words = re.findall(r'\\p{L}+', corpus)\n",
    "unique_word_set = set(words)\n",
    "print(\"Unique words (original case):\", len(unique_word_set))"
   ]
  },
  {
   "cell_type": "markdown",
   "metadata": {},
   "source": [
    "Lowercased text"
   ]
  },
  {
   "cell_type": "code",
   "execution_count": 166,
   "metadata": {},
   "outputs": [
    {
     "name": "stdout",
     "output_type": "stream",
     "text": [
      "Unique words (lowercased): 41032\n"
     ]
    }
   ],
   "source": [
    "# Write your code here\n",
    "lowercased_set = {word.lower() for word in words}\n",
    "print(\"Unique words (lowercased):\", len(lowercased_set))"
   ]
  },
  {
   "cell_type": "markdown",
   "metadata": {},
   "source": [
    "### Segmenting a corpus"
   ]
  },
  {
   "cell_type": "markdown",
   "metadata": {},
   "source": [
    "You will write a program to tokenize your text, insert `<s>` and `</s>` tags to delimit sentences, and set all the words in lowercase letters. In the end, you will only keep the words."
   ]
  },
  {
   "cell_type": "markdown",
   "metadata": {},
   "source": [
    "#### Normalizing "
   ]
  },
  {
   "cell_type": "markdown",
   "metadata": {},
   "source": [
    "Write a regular expression that matches all the characters that are neither a letter nor a punctuation sign. The punctuations signs will be the followings: `.;:?!`. In your regex, use the same order. For the definition of a letter, use a Unicode regex. You will call the regex string `nonletter`"
   ]
  },
  {
   "cell_type": "code",
   "execution_count": 167,
   "metadata": {},
   "outputs": [],
   "source": [
    "# Write your code\n",
    "nonletter = r\"[^\\p{L}.;:?!]\""
   ]
  },
  {
   "cell_type": "markdown",
   "metadata": {},
   "source": [
    "Write a `clean()` function that replaces all the characters that are neither a letter nor a punctuation sign with a space. The punctuations signs will be the followings: `.;:?!`.   For the sentence:\n",
    "\n",
    "_En gång hade de på Mårbacka en barnpiga, som hette Back-Kajsa._\n",
    "\n",
    "the result will be:\n",
    "\n",
    "`En gång hade de på Mårbacka en barnpiga som hette Back Kajsa.`"
   ]
  },
  {
   "cell_type": "code",
   "execution_count": 168,
   "metadata": {},
   "outputs": [],
   "source": [
    "# Write your code here\n",
    "def clean(text):\n",
    "    text = re.sub(nonletter, \" \", text)\n",
    "    text = re.sub(r\"\\s+\", \" \", text)\n",
    "    return text"
   ]
  },
  {
   "cell_type": "code",
   "execution_count": 169,
   "metadata": {},
   "outputs": [],
   "source": [
    "test_para = 'En gång hade de på Mårbacka en barnpiga, som hette Back-Kajsa. \\\n",
    "Hon var nog sina tre alnar lång, hon hade ett stort, grovt ansikte med stränga, mörka drag, \\\n",
    "hennes händer voro hårda och fulla av sprickor, som barnens hår fastnade i, \\\n",
    "när hon kammade dem, och till humöret var hon dyster och sorgbunden.'"
   ]
  },
  {
   "cell_type": "code",
   "execution_count": 170,
   "metadata": {},
   "outputs": [
    {
     "name": "stdout",
     "output_type": "stream",
     "text": [
      "En gång hade de på Mårbacka en barnpiga som hette Back Kajsa. Hon var nog sina tre alnar lång hon hade ett stort grovt ansikte med stränga mörka drag hennes händer voro hårda och fulla av sprickor som barnens hår fastnade i när hon kammade dem och till humöret var hon dyster och sorgbunden.\n"
     ]
    }
   ],
   "source": [
    "print(clean(test_para))"
   ]
  },
  {
   "cell_type": "code",
   "execution_count": 171,
   "metadata": {},
   "outputs": [
    {
     "name": "stdout",
     "output_type": "stream",
     "text": [
      "Selma Lagerlöf\n",
      "\n",
      "\n",
      "Nils Holgerssons underbara resa genom Sverige. Första bandet\n",
      "\n",
      "\n",
      "\n",
      "\n",
      "\n",
      "Bokutgåva\n",
      "\n",
      "\n",
      "Albert Bonniers förlag, Stockholm 1907.\n",
      "\n",
      "\n",
      "\n",
      "\n",
      "DEN KRISTLIGA DAGVISAN.\n",
      "\n",
      "\n",
      "\n",
      "\n",
      "\n",
      "Den signade dag, som vi nu här s\n"
     ]
    }
   ],
   "source": [
    "print(corpus[:200])"
   ]
  },
  {
   "cell_type": "code",
   "execution_count": 172,
   "metadata": {},
   "outputs": [
    {
     "name": "stdout",
     "output_type": "stream",
     "text": [
      "Selma Lagerlöf Nils Holgerssons underbara resa genom Sverige. Första bandet Bokutgåva Albert Bonniers förlag Stockholm . DEN KRISTLIGA DAGVISAN. Den signade dag som vi nu här s\n"
     ]
    }
   ],
   "source": [
    "print(clean(corpus[:200]))"
   ]
  },
  {
   "cell_type": "markdown",
   "metadata": {},
   "source": [
    "#### Segmenter"
   ]
  },
  {
   "cell_type": "markdown",
   "metadata": {},
   "source": [
    "In this section, you will write a sentence segmenter that will delimit each sentence with `</s>` and `<s>` symbols. For example the sentence:\n",
    "\n",
    "_En gång hade de på Mårbacka en barnpiga, som hette Back-Kajsa._\n",
    "\n",
    "will be bracketed as:\n",
    "\n",
    "`<s> En gång hade de på Mårbacka en barnpiga som hette Back-Kajsa </s>`\n",
    "\n",
    "As algorithm, you will use a simple heuristics to detect the sentence boundaries: A sentence starts with a capital letter and ends with a period-equivalent punctuation sign. You will write a regex to match these boundaries with a regular expression and you will insert `</s>\\n<s>` symbols with a substitution function."
   ]
  },
  {
   "cell_type": "markdown",
   "metadata": {},
   "source": [
    "##### Detecting sentence boundaries"
   ]
  },
  {
   "cell_type": "markdown",
   "metadata": {},
   "source": [
    "Write a regular expression that matches a punctuation, a sequence of spaces, and an uppercase letter. Call this regex string `sentence_boundaries`. In the regex, you will remember the value of the uppercase letter using a backreference. Use the Unicode regexes for the letters and the spaces. You may use `\\s` though."
   ]
  },
  {
   "cell_type": "code",
   "execution_count": 173,
   "metadata": {},
   "outputs": [],
   "source": [
    "# Write your code here\n",
    "sentence_boundaries = r\"[.;:?!]\\s+(\\p{Lu})\"\n"
   ]
  },
  {
   "cell_type": "markdown",
   "metadata": {},
   "source": [
    "##### Replacement markup"
   ]
  },
  {
   "cell_type": "markdown",
   "metadata": {},
   "source": [
    "Write a string to replace the matched boundaries with the sentence boundary markup. Remember that a sentence ends with `</s>` and starts with `<s>` and that there is one sentence per line. Hint: The markup is `</s>\\n<s>`. Remember also that the first letter of your sentence is in a regex backreference. Call the regex string `sentence_markup`."
   ]
  },
  {
   "cell_type": "code",
   "execution_count": 174,
   "metadata": {},
   "outputs": [],
   "source": [
    "# Write your code here\n",
    "sentence_markup = r\"</s>\\n<s>\\1\""
   ]
  },
  {
   "cell_type": "markdown",
   "metadata": {},
   "source": [
    "##### Applying the substitution"
   ]
  },
  {
   "cell_type": "markdown",
   "metadata": {},
   "source": [
    "Use your regexes to segment your text. Use the string `sentence_boundaries`, `sentence_markup`, and `test_para` as input and `text` as output."
   ]
  },
  {
   "cell_type": "code",
   "execution_count": 175,
   "metadata": {},
   "outputs": [],
   "source": [
    "# Write your code here\n",
    "text = re.sub(sentence_boundaries, sentence_markup, test_para)"
   ]
  },
  {
   "cell_type": "code",
   "execution_count": 176,
   "metadata": {},
   "outputs": [
    {
     "name": "stdout",
     "output_type": "stream",
     "text": [
      "En gång hade de på Mårbacka en barnpiga, som hette Back-Kajsa</s>\n",
      "<s>Hon var nog sina tre alnar lång, hon hade ett stort, grovt ansikte med stränga, mörka drag, hennes händer voro hårda och fulla av sprickor, som barnens hår fastnade i, när hon kammade dem, och till humöret var hon dyster och sorgbunden.\n"
     ]
    }
   ],
   "source": [
    "print(text)"
   ]
  },
  {
   "cell_type": "markdown",
   "metadata": {},
   "source": [
    "Insert markup codes in the beginning and end of the text"
   ]
  },
  {
   "cell_type": "code",
   "execution_count": 177,
   "metadata": {},
   "outputs": [],
   "source": [
    "# Write your code here\n",
    "marked_text = \"<s>\" + text + \"</s>\""
   ]
  },
  {
   "cell_type": "code",
   "execution_count": 178,
   "metadata": {},
   "outputs": [
    {
     "name": "stdout",
     "output_type": "stream",
     "text": [
      "<s>En gång hade de på Mårbacka en barnpiga, som hette Back-Kajsa</s>\n",
      "<s>Hon var nog sina tre alnar lång, hon hade ett stort, grovt ansikte med stränga, mörka drag, hennes händer voro hårda och fulla av sprickor, som barnens hår fastnade i, när hon kammade dem, och till humöret var hon dyster och sorgbunden.</s>\n"
     ]
    }
   ],
   "source": [
    "print(marked_text)"
   ]
  },
  {
   "cell_type": "markdown",
   "metadata": {},
   "source": [
    "Replace the space duplicates with one space and remove the punctuation signs. For the spaces, use the Unicode regex. You may use `\\s` though."
   ]
  },
  {
   "cell_type": "code",
   "execution_count": 179,
   "metadata": {},
   "outputs": [],
   "source": [
    "# Write your code here\n",
    "marked_text = re.sub(r\"\\s+\", \" \", marked_text)\n",
    "marked_text = re.sub(r\"[.;:?!]\", \"\", marked_text)\n"
   ]
  },
  {
   "cell_type": "code",
   "execution_count": 180,
   "metadata": {},
   "outputs": [
    {
     "name": "stdout",
     "output_type": "stream",
     "text": [
      "<s>En gång hade de på Mårbacka en barnpiga, som hette Back-Kajsa</s> <s>Hon var nog sina tre alnar lång, hon hade ett stort, grovt ansikte med stränga, mörka drag, hennes händer voro hårda och fulla av sprickor, som barnens hår fastnade i, när hon kammade dem, och till humöret var hon dyster och sorgbunden</s>\n"
     ]
    }
   ],
   "source": [
    "print(marked_text)"
   ]
  },
  {
   "cell_type": "markdown",
   "metadata": {},
   "source": [
    "Write a `segment_sentences(text)` function to gather the code in the Segmenter section and set the text in lowercase"
   ]
  },
  {
   "cell_type": "code",
   "execution_count": 181,
   "metadata": {},
   "outputs": [],
   "source": [
    "# Write your code here\n",
    "def segment_sentences(text):\n",
    "    sentence_boundaries = r\"[.;:?!]\\s+(\\p{Lu})\"\n",
    "    sentence_markup = r\"</s>\\n<s>\\1\"\n",
    "    marked_text = re.sub(sentence_boundaries, sentence_markup, text)\n",
    "    marked_text = \"<s>\" + marked_text + \"</s>\"\n",
    "    marked_text = re.sub(r\"\\s+\", \" \", marked_text)\n",
    "    marked_text = re.sub(r\"[.;:?!]\", \"\", marked_text)\n",
    "    marked_text = marked_text.lower()\n",
    "    return marked_text"
   ]
  },
  {
   "cell_type": "code",
   "execution_count": 182,
   "metadata": {},
   "outputs": [
    {
     "name": "stdout",
     "output_type": "stream",
     "text": [
      "<s>en gång hade de på mårbacka en barnpiga, som hette back-kajsa</s> <s>hon var nog sina tre alnar lång, hon hade ett stort, grovt ansikte med stränga, mörka drag, hennes händer voro hårda och fulla av sprickor, som barnens hår fastnade i, när hon kammade dem, och till humöret var hon dyster och sorgbunden</s>\n"
     ]
    }
   ],
   "source": [
    "print(segment_sentences(test_para))"
   ]
  },
  {
   "cell_type": "markdown",
   "metadata": {},
   "source": [
    "Estimate qualitatively the accuracy of your program."
   ]
  },
  {
   "cell_type": "markdown",
   "metadata": {},
   "source": [
    "#### Tokenizing the corpus"
   ]
  },
  {
   "cell_type": "markdown",
   "metadata": {},
   "source": [
    "Clean and segment the corpus using the functions you have written"
   ]
  },
  {
   "cell_type": "code",
   "execution_count": 183,
   "metadata": {},
   "outputs": [],
   "source": [
    "# Write your code here\n",
    "corpus = clean(corpus)\n",
    "corpus = segment_sentences(corpus)\n"
   ]
  },
  {
   "cell_type": "markdown",
   "metadata": {},
   "source": [
    "The result should be a normalized text without punctuation signs where all the sentences are delimited with `<s>` and `</s>` tags. The five last lines of the text should look like this. You may have some small differences."
   ]
  },
  {
   "cell_type": "code",
   "execution_count": 184,
   "metadata": {},
   "outputs": [
    {
     "name": "stdout",
     "output_type": "stream",
     "text": [
      "ulla</s> <s>hon hade fått större kärlek av sina föräldrar än någon annan han visste och sådan kärlek måste vändas i välsignelse</s> <s>då prästen sade detta kom alla människor att se bort mot klara gulla och de förundrade sig över vad de såg</s> <s>prästens ord tycktes redan ha gått i uppfyllelse</s> <s>där stod klara fina gulleborg ifrån skrolycka hon som var uppkallad efter själva solen vid sina föräldrars grav och lyste som en förklarad</s> <s>hon var likaså vacker som den söndagen då hon gick till kyrkan i den röda klänningen om inte vackrare </s>\n"
     ]
    }
   ],
   "source": [
    "print(corpus[-557:])"
   ]
  },
  {
   "cell_type": "markdown",
   "metadata": {},
   "source": [
    "You will now create a list of words from your string. You will consider that a space or a carriage return is an item separator"
   ]
  },
  {
   "cell_type": "code",
   "execution_count": 185,
   "metadata": {},
   "outputs": [],
   "source": [
    "# Write your code here\n",
    "corpus_markers = corpus.replace(\"<s>\", \" <s> \").replace(\"</s>\", \" </s> \")\n",
    "words = corpus_markers.split()"
   ]
  },
  {
   "cell_type": "markdown",
   "metadata": {},
   "source": [
    "The five last lines of the corpus should like this:"
   ]
  },
  {
   "cell_type": "code",
   "execution_count": 186,
   "metadata": {},
   "outputs": [
    {
     "name": "stdout",
     "output_type": "stream",
     "text": [
      "['<s>', 'hon', 'hade', 'fått', 'större', 'kärlek', 'av', 'sina', 'föräldrar', 'än', 'någon', 'annan', 'han', 'visste', 'och', 'sådan', 'kärlek', 'måste', 'vändas', 'i', 'välsignelse', '</s>', '<s>', 'då', 'prästen', 'sade', 'detta', 'kom', 'alla', 'människor', 'att', 'se', 'bort', 'mot', 'klara', 'gulla', 'och', 'de', 'förundrade', 'sig', 'över', 'vad', 'de', 'såg', '</s>', '<s>', 'prästens', 'ord', 'tycktes', 'redan', 'ha', 'gått', 'i', 'uppfyllelse', '</s>', '<s>', 'där', 'stod', 'klara', 'fina', 'gulleborg', 'ifrån', 'skrolycka', 'hon', 'som', 'var', 'uppkallad', 'efter', 'själva', 'solen', 'vid', 'sina', 'föräldrars', 'grav', 'och', 'lyste', 'som', 'en', 'förklarad', '</s>', '<s>', 'hon', 'var', 'likaså', 'vacker', 'som', 'den', 'söndagen', 'då', 'hon', 'gick', 'till', 'kyrkan', 'i', 'den', 'röda', 'klänningen', 'om', 'inte', 'vackrare', '</s>']\n"
     ]
    }
   ],
   "source": [
    "print(words[-101:])"
   ]
  },
  {
   "cell_type": "markdown",
   "metadata": {},
   "source": [
    "### Counting unigrams and bigrams"
   ]
  },
  {
   "cell_type": "markdown",
   "metadata": {},
   "source": [
    "Read and try programs to compute the frequency of unigrams and bigrams of the training set in the noteboo: [https://github.com/pnugues/pnlp/blob/main/notebooks/10_01_ngrams.ipynb](https://github.com/pnugues/pnlp/blob/main/notebooks/10_01_ngrams.ipynb)."
   ]
  },
  {
   "cell_type": "markdown",
   "metadata": {},
   "source": [
    "#### Unigrams"
   ]
  },
  {
   "cell_type": "code",
   "execution_count": 187,
   "metadata": {},
   "outputs": [],
   "source": [
    "def unigrams(words):\n",
    "    frequency = {}\n",
    "    for i in range(len(words)):\n",
    "        if words[i] in frequency:\n",
    "            frequency[words[i]] += 1\n",
    "        else:\n",
    "            frequency[words[i]] = 1\n",
    "    return frequency"
   ]
  },
  {
   "cell_type": "markdown",
   "metadata": {},
   "source": [
    "We compute the frequencies."
   ]
  },
  {
   "cell_type": "code",
   "execution_count": 188,
   "metadata": {},
   "outputs": [
    {
     "data": {
      "text/plain": [
       "[('<s>', 59047),\n",
       " ('selma', 52),\n",
       " ('lagerlöf', 270),\n",
       " ('nils', 87),\n",
       " ('holgerssons', 6),\n",
       " ('underbara', 23),\n",
       " ('resa', 317),\n",
       " ('genom', 688),\n",
       " ('sverige', 56),\n",
       " ('</s>', 59047),\n",
       " ('första', 525),\n",
       " ('bandet', 6),\n",
       " ('bokutgåva', 11),\n",
       " ('albert', 15),\n",
       " ('bonniers', 11),\n",
       " ('förlag', 11),\n",
       " ('stockholm', 77),\n",
       " ('den', 11624),\n",
       " ('kristliga', 2),\n",
       " ('dagvisan', 2)]"
      ]
     },
     "execution_count": 188,
     "metadata": {},
     "output_type": "execute_result"
    }
   ],
   "source": [
    "frequency = unigrams(words)\n",
    "list(frequency.items())[:20]"
   ]
  },
  {
   "cell_type": "markdown",
   "metadata": {},
   "source": [
    "#### Bigrams"
   ]
  },
  {
   "cell_type": "code",
   "execution_count": 189,
   "metadata": {},
   "outputs": [],
   "source": [
    "def bigrams(words):\n",
    "    bigrams = []\n",
    "    for i in range(len(words) - 1):\n",
    "        bigrams.append((words[i], words[i + 1]))\n",
    "    frequency_bigrams = {}\n",
    "    for i in range(len(words) - 1):\n",
    "        if bigrams[i] in frequency_bigrams:\n",
    "            frequency_bigrams[bigrams[i]] += 1\n",
    "        else:\n",
    "            frequency_bigrams[bigrams[i]] = 1\n",
    "    return frequency_bigrams"
   ]
  },
  {
   "cell_type": "code",
   "execution_count": 190,
   "metadata": {},
   "outputs": [
    {
     "data": {
      "text/plain": [
       "[(('<s>', 'selma'), 8),\n",
       " (('selma', 'lagerlöf'), 11),\n",
       " (('lagerlöf', 'nils'), 1),\n",
       " (('nils', 'holgerssons'), 6),\n",
       " (('holgerssons', 'underbara'), 4),\n",
       " (('underbara', 'resa'), 4),\n",
       " (('resa', 'genom'), 6),\n",
       " (('genom', 'sverige'), 5),\n",
       " (('sverige', '</s>'), 17),\n",
       " (('</s>', '<s>'), 59046),\n",
       " (('<s>', 'första'), 11),\n",
       " (('första', 'bandet'), 1),\n",
       " (('bandet', 'bokutgåva'), 2),\n",
       " (('bokutgåva', 'albert'), 11),\n",
       " (('albert', 'bonniers'), 11),\n",
       " (('bonniers', 'förlag'), 11),\n",
       " (('förlag', 'stockholm'), 10),\n",
       " (('stockholm', '</s>'), 24),\n",
       " (('<s>', 'den'), 1375),\n",
       " (('den', 'kristliga'), 2)]"
      ]
     },
     "execution_count": 190,
     "metadata": {},
     "output_type": "execute_result"
    }
   ],
   "source": [
    "frequency_bigrams = bigrams(words)\n",
    "list(frequency_bigrams.items())[:20]"
   ]
  },
  {
   "cell_type": "markdown",
   "metadata": {},
   "source": [
    "In the report, tell what is the possible number of bigrams and their real number? Explain why such a difference. What would be the possible number of 4-grams.\n",
    "\n",
    "Propose a solution to cope with bigrams unseen in the corpus."
   ]
  },
  {
   "cell_type": "markdown",
   "metadata": {},
   "source": [
    "### Computing the likelihood of a sentence\n",
    "You will now compute the likelihood of a sentence using a bigram and a trigram models. \n",
    "\n",
    "In both models, you will ignore the start of sentence symbol, `<s>`, as this factor is common to both models: $P(<s>)$. This will save you one multiplication."
   ]
  },
  {
   "cell_type": "markdown",
   "metadata": {},
   "source": [
    "#### Unigrams"
   ]
  },
  {
   "cell_type": "markdown",
   "metadata": {},
   "source": [
    "Write a program to compute a sentence's probability using unigrams. Your function will return the perplexity."
   ]
  },
  {
   "cell_type": "markdown",
   "metadata": {},
   "source": [
    "Your function should print and tabulate the results as in the examples below with the sentence _Det var en gång en katt som hette Nils_.\n",
    "\n",
    "Your figures might be slightly different because of differences in the sentence segmentation."
   ]
  },
  {
   "cell_type": "markdown",
   "metadata": {},
   "source": [
    "```\n",
    "=====================================================\n",
    "wi \t C(wi) \t #words \t P(wi)\n",
    "=====================================================\n",
    "det \t 21108 \t 1041631 \t 0.0202643738521607\n",
    "var \t 12090 \t 1041631 \t 0.01160679741674355\n",
    "en \t 13514 \t 1041631 \t 0.01297388422579589\n",
    "gång \t 1332 \t 1041631 \t 0.001278763784871994\n",
    "en \t 13514 \t 1041631 \t 0.01297388422579589\n",
    "katt \t 16 \t 1041631 \t 1.5360525944408337e-05\n",
    "som \t 16288 \t 1041631 \t 0.015637015411407686\n",
    "hette \t 97 \t 1041631 \t 9.312318853797554e-05\n",
    "nils \t 87 \t 1041631 \t 8.352285982272032e-05\n",
    "</s> \t 59047 \t 1041631 \t 0.056687060964967444\n",
    "=====================================================\n",
    "Prob. unigrams:\t 5.361459667285409e-27\n",
    "Geometric mean prob.: 0.0023600885848765307\n",
    "Entropy rate:\t 8.726943273141258\n",
    "Perplexity:\t 423.71290908655254\n",
    "```"
   ]
  },
  {
   "cell_type": "code",
   "execution_count": 191,
   "metadata": {},
   "outputs": [],
   "source": [
    "# Write your code\n",
    "def unigram_lm(frequency, sent_words):\n",
    "    \"\"\"\n",
    "    Computing the sentence probs with a unigram model.\n",
    "    \"\"\"\n",
    "    total_words = sum(frequency.values())\n",
    "    prob_sentence = 1.0\n",
    "    log_probs = []\n",
    "    print(\"=\"*53)\n",
    "    print(\"wi \\t C(wi) \\t #words \\t P(wi)\")\n",
    "    print(\"=\"*53)\n",
    "    for w in sent_words:\n",
    "        count = frequency.get(w, 0)\n",
    "        p_w = count / total_words if count > 0 else 1e-12\n",
    "        prob_sentence *= p_w\n",
    "        log_probs.append(math.log2(p_w))\n",
    "        print(f\"{w}\\t {count} \\t {total_words} \\t {p_w}\")\n",
    "    print(\"=\"*53)\n",
    "    geo_mean_prob = math.exp(sum(math.log(p_w) for p_w in [frequency.get(w, 1e-12)/total_words for w in sent_words])/len(sent_words))\n",
    "    entropy_rate = -sum(log_probs) / len(sent_words)\n",
    "    perplexity = 2 ** entropy_rate\n",
    "    print(\"Prob. unigrams:\\t\", prob_sentence)\n",
    "    print(\"Geometric mean prob.:\", geo_mean_prob)\n",
    "    print(\"Entropy rate:\\t\", entropy_rate)\n",
    "    print(\"Perplexity:\\t\", perplexity)\n",
    "    return perplexity"
   ]
  },
  {
   "cell_type": "code",
   "execution_count": 192,
   "metadata": {},
   "outputs": [
    {
     "data": {
      "text/plain": [
       "['det', 'var', 'en', 'gång', 'en', 'katt', 'som', 'hette', 'nils', '</s>']"
      ]
     },
     "execution_count": 192,
     "metadata": {},
     "output_type": "execute_result"
    }
   ],
   "source": [
    "sentence = 'det var en gång en katt som hette nils </s>'\n",
    "sent_words = sentence.split()\n",
    "sent_words"
   ]
  },
  {
   "cell_type": "code",
   "execution_count": 193,
   "metadata": {},
   "outputs": [
    {
     "name": "stdout",
     "output_type": "stream",
     "text": [
      "=====================================================\n",
      "wi \t C(wi) \t #words \t P(wi)\n",
      "=====================================================\n",
      "det\t 21108 \t 1041560 \t 0.020265755213333847\n",
      "var\t 12090 \t 1041560 \t 0.011607588617074388\n",
      "en\t 13514 \t 1041560 \t 0.01297476861630631\n",
      "gång\t 1332 \t 1041560 \t 0.001278850954337724\n",
      "en\t 13514 \t 1041560 \t 0.01297476861630631\n",
      "katt\t 16 \t 1041560 \t 1.5361573025077767e-05\n",
      "som\t 16288 \t 1041560 \t 0.015638081339529167\n",
      "hette\t 97 \t 1041560 \t 9.312953646453396e-05\n",
      "nils\t 87 \t 1041560 \t 8.352855332386037e-05\n",
      "</s>\t 59047 \t 1041560 \t 0.056690925150735434\n",
      "=====================================================\n",
      "Prob. unigrams:\t 5.3651155337425844e-27\n",
      "Geometric mean prob.: 0.0023602494649886\n",
      "Entropy rate:\t 8.726844932328587\n",
      "Perplexity:\t 423.68402782577465\n"
     ]
    }
   ],
   "source": [
    "perplexity_unigrams = unigram_lm(frequency, sent_words)"
   ]
  },
  {
   "cell_type": "code",
   "execution_count": 194,
   "metadata": {},
   "outputs": [
    {
     "data": {
      "text/plain": [
       "423"
      ]
     },
     "execution_count": 194,
     "metadata": {},
     "output_type": "execute_result"
    }
   ],
   "source": [
    "perplexity_unigrams = int(perplexity_unigrams)\n",
    "perplexity_unigrams"
   ]
  },
  {
   "cell_type": "markdown",
   "metadata": {},
   "source": [
    "#### Bigrams"
   ]
  },
  {
   "cell_type": "markdown",
   "metadata": {},
   "source": [
    "Write a program to compute the sentence probability using bigrams. Your function will tabulate and print the results as below. It will return the perplexity."
   ]
  },
  {
   "cell_type": "markdown",
   "metadata": {},
   "source": [
    "```\n",
    "=====================================================\n",
    "wi \t wi+1 \t Ci,i+1 \t C(i) \t P(wi+1|wi)\n",
    "=====================================================\n",
    "<s>\t det \t 5672 \t 59047 \t 0.09605907158704083\n",
    "det \t var \t 3839 \t 21108 \t 0.1818741709304529\n",
    "var \t en \t 712 \t 12090 \t 0.058891645988420185\n",
    "en \t gång \t 706 \t 13514 \t 0.052242119283705785\n",
    "gång \t en \t 20 \t 1332 \t 0.015015015015015015\n",
    "en \t katt \t 6 \t 13514 \t 0.0004439840165754033\n",
    "katt \t som \t 2 \t 16 \t 0.125\n",
    "som \t hette \t 45 \t 16288 \t 0.002762770137524558\n",
    "hette \t nils \t 0 \t 97 \t 0.0 \t *backoff: \t 8.352285982272032e-05\n",
    "nils \t </s> \t 2 \t 87 \t 0.022988505747126436\n",
    "=====================================================\n",
    "Prob. bigrams:\t 2.376007803503683e-19\n",
    "Geometric mean prob.: 0.013727289294133601\n",
    "Entropy rate:\t 6.186809422848149\n",
    "Perplexity:\t 72.84759420254609\n",
    "```"
   ]
  },
  {
   "cell_type": "code",
   "execution_count": 195,
   "metadata": {},
   "outputs": [],
   "source": [
    "# Write your code\n",
    "def bigram_lm(frequency, frequency_bigrams, sent_words):\n",
    "    prob_sentence = 1.0\n",
    "    log_probs = []\n",
    "    sent_words = [\"<s>\"] + sent_words\n",
    "    print(\"=\"*53)\n",
    "    print(\"wi-1 wi \\t C(wi-1,wi) \\t C(wi-1) \\t P(wi+1|wi)\")\n",
    "    print(\"=\"*53)\n",
    "    \n",
    "    for i in range(len(sent_words) -1):\n",
    "        w_prev = sent_words[i]\n",
    "        w_curr = sent_words[i+1]\n",
    "        \n",
    "        count_bigram = frequency_bigrams.get((w_prev, w_curr), 0)\n",
    "        count_prev = frequency.get(w_prev, 0)\n",
    "        \n",
    "        if count_bigram > 0 and count_prev > 0:\n",
    "            p = count_bigram / count_prev\n",
    "            prob_sentence *= p\n",
    "            log_probs.append(math.log2(p))\n",
    "            print(f\"{w_prev}\\t {w_curr}\\t {count_bigram} \\t {count_prev} \\t {p}\")\n",
    "        else:\n",
    "            p_unigram = frequency.get(w_curr, 1e-12) / sum(frequency.values())\n",
    "            prob_sentence *= p_unigram\n",
    "            log_probs.append(math.log2(p_unigram))\n",
    "            print(f\"{w_prev}\\t {w_curr}\\t {count_bigram} \\t {count_prev} \\t 0.0 \\t *backoff:\\t {p_unigram}\")\n",
    "    print(\"=\"*53)\n",
    "    \n",
    "    probs = []\n",
    "    for i in range(len(sent_words)-1):\n",
    "        w_prev = sent_words[i]\n",
    "        w_curr = sent_words[i+1]\n",
    "        count_bigram = frequency_bigrams.get((w_prev, w_curr), 0)\n",
    "        count_prev = frequency.get(w_prev, 0)\n",
    "\n",
    "        if count_bigram > 0 and count_prev > 0:\n",
    "            p = count_bigram / count_prev\n",
    "        else:\n",
    "            # backoff to unigram probability\n",
    "            p = frequency.get(w_curr, 1e-12) / sum(frequency.values())\n",
    "        probs.append(p)\n",
    "        \n",
    "    geo_mean_prob = math.exp(sum(math.log(p) for p in probs) / len(probs))\n",
    "    entropy_rate = -sum(log_probs)/(len(sent_words)-1)\n",
    "    perplexity = 2 ** entropy_rate\n",
    "    print(\"Prob. bigrams:\\t\", prob_sentence)\n",
    "    print(\"Geometric mean prob.:\", geo_mean_prob)\n",
    "    print(\"Entropy rate:\\t\", entropy_rate)\n",
    "    print(\"Perplexity:\\t\", perplexity)\n",
    "    return perplexity\n",
    "\n"
   ]
  },
  {
   "cell_type": "code",
   "execution_count": 196,
   "metadata": {},
   "outputs": [
    {
     "name": "stdout",
     "output_type": "stream",
     "text": [
      "=====================================================\n",
      "wi-1 wi \t C(wi-1,wi) \t C(wi-1) \t P(wi+1|wi)\n",
      "=====================================================\n",
      "<s>\t det\t 5672 \t 59047 \t 0.09605907158704083\n",
      "det\t var\t 3839 \t 21108 \t 0.1818741709304529\n",
      "var\t en\t 712 \t 12090 \t 0.058891645988420185\n",
      "en\t gång\t 706 \t 13514 \t 0.052242119283705785\n",
      "gång\t en\t 20 \t 1332 \t 0.015015015015015015\n",
      "en\t katt\t 6 \t 13514 \t 0.0004439840165754033\n",
      "katt\t som\t 2 \t 16 \t 0.125\n",
      "som\t hette\t 45 \t 16288 \t 0.002762770137524558\n",
      "hette\t nils\t 0 \t 97 \t 0.0 \t *backoff:\t 8.352855332386037e-05\n",
      "nils\t </s>\t 2 \t 87 \t 0.022988505747126436\n",
      "=====================================================\n",
      "Prob. bigrams:\t 2.376169768780815e-19\n",
      "Geometric mean prob.: 0.0137273828660492\n",
      "Entropy rate:\t 6.186799588766881\n",
      "Perplexity:\t 72.84709764111099\n"
     ]
    }
   ],
   "source": [
    "perplexity_bigrams = bigram_lm(frequency, frequency_bigrams, sent_words)"
   ]
  },
  {
   "cell_type": "code",
   "execution_count": 197,
   "metadata": {},
   "outputs": [
    {
     "data": {
      "text/plain": [
       "72"
      ]
     },
     "execution_count": 197,
     "metadata": {},
     "output_type": "execute_result"
    }
   ],
   "source": [
    "perplexity_bigrams = int(perplexity_bigrams)\n",
    "perplexity_bigrams"
   ]
  },
  {
   "cell_type": "markdown",
   "metadata": {},
   "source": [
    "In addition to this sentence, _Det var en gång en katt som hette Nils_, write two other sentences that will form your test set and run your programs on them. You will insert them in your report."
   ]
  },
  {
   "cell_type": "markdown",
   "metadata": {},
   "source": [
    "### Online prediction of words"
   ]
  },
  {
   "cell_type": "markdown",
   "metadata": {},
   "source": [
    "You will now carry out an online prediction of words. You will consider two cases:\n",
    "1. Prediction of the current word a user is typing;\n",
    "2. Prediction of the next word.\n",
    "\n",
    "Ideally, you would write a loop that reads the words and apply the models while typing. As the Jupyter labs are not designed for interactive input and output, we will simplify the experimental settings with constant strings at a given time of the input.  \n",
    "\n",
    "We will assume the user is typing the phrase: _Det var en gång_. "
   ]
  },
  {
   "cell_type": "markdown",
   "metadata": {},
   "source": [
    "#### Trigrams"
   ]
  },
  {
   "cell_type": "markdown",
   "metadata": {},
   "source": [
    "To have a more accurate prediction, you will use a trigram counting function. Program this function following the model of your bigram counting function."
   ]
  },
  {
   "cell_type": "code",
   "execution_count": 198,
   "metadata": {},
   "outputs": [],
   "source": [
    "# Write your code\n",
    "def trigrams(words):\n",
    "    trigram_counts = {}\n",
    "    for i in range(len(words) - 2):\n",
    "        key = (words[i], words[i+1], words[i+2])\n",
    "        trigram_counts[key] = trigram_counts.get(key, 0) +1\n",
    "    return trigram_counts"
   ]
  },
  {
   "cell_type": "code",
   "execution_count": 199,
   "metadata": {},
   "outputs": [
    {
     "data": {
      "text/plain": [
       "330"
      ]
     },
     "execution_count": 199,
     "metadata": {},
     "output_type": "execute_result"
    }
   ],
   "source": [
    "frequency_trigrams = trigrams(words)\n",
    "frequency_trigrams[('det', 'var', 'en')]"
   ]
  },
  {
   "cell_type": "markdown",
   "metadata": {},
   "source": [
    "#### Prediction"
   ]
  },
  {
   "cell_type": "markdown",
   "metadata": {},
   "source": [
    "The user starts typing _Det var en gång_. After the 2nd character, your program tries to help the user with suggested words."
   ]
  },
  {
   "cell_type": "code",
   "execution_count": 200,
   "metadata": {},
   "outputs": [
    {
     "data": {
      "text/plain": [
       "'de'"
      ]
     },
     "execution_count": 200,
     "metadata": {},
     "output_type": "execute_result"
    }
   ],
   "source": [
    "starting_text = 'De'.lower()\n",
    "starting_text"
   ]
  },
  {
   "cell_type": "markdown",
   "metadata": {},
   "source": [
    "Write a program to rank the five first candidates at this point. Assign these predictions in a list that you will call `current_word_predictions_1`. Note that you are starting a sentence and you can then use the bigram frequencies. Write a sorting key that will enable you to have a deterministic ranking of the words or bigrams with identical frequencies: When two words have the same frequency, you will sort them by alphabetic order. You can do this with a tuple."
   ]
  },
  {
   "cell_type": "code",
   "execution_count": 201,
   "metadata": {},
   "outputs": [],
   "source": [
    "cand_nbr = 5"
   ]
  },
  {
   "cell_type": "code",
   "execution_count": 202,
   "metadata": {},
   "outputs": [],
   "source": [
    "# Write your code here\n",
    "candidates = [(w2, count) for (w1, w2), count in frequency_bigrams.items() if w1 == \"<s>\"]\n",
    "candidates_sorted = sorted(candidates, key=lambda x: (-x[-1], x[0]))\n",
    "current_word_predictions_1 = [w for w, _ in candidates_sorted[:cand_nbr]]"
   ]
  },
  {
   "cell_type": "code",
   "execution_count": 203,
   "metadata": {},
   "outputs": [
    {
     "data": {
      "text/plain": [
       "['det', 'han', 'men', 'hon', 'och']"
      ]
     },
     "execution_count": 203,
     "metadata": {},
     "output_type": "execute_result"
    }
   ],
   "source": [
    "current_word_predictions_1"
   ]
  },
  {
   "cell_type": "markdown",
   "metadata": {},
   "source": [
    "Let us now suppose that the user has typed: _Det var en_. After detecting a space, your program starts predicting a next possible word."
   ]
  },
  {
   "cell_type": "code",
   "execution_count": 204,
   "metadata": {},
   "outputs": [
    {
     "data": {
      "text/plain": [
       "'det var en '"
      ]
     },
     "execution_count": 204,
     "metadata": {},
     "output_type": "execute_result"
    }
   ],
   "source": [
    "current_text = \"Det var en \".lower()\n",
    "current_text"
   ]
  },
  {
   "cell_type": "markdown",
   "metadata": {},
   "source": [
    "Tokenize this text and return a list of tokens. Call it `tokens`."
   ]
  },
  {
   "cell_type": "code",
   "execution_count": 205,
   "metadata": {},
   "outputs": [],
   "source": [
    "# Write your code here\n",
    "tokens = re.findall(r'\\p{L}+', current_text)"
   ]
  },
  {
   "cell_type": "code",
   "execution_count": 206,
   "metadata": {},
   "outputs": [
    {
     "data": {
      "text/plain": [
       "['det', 'var', 'en']"
      ]
     },
     "execution_count": 206,
     "metadata": {},
     "output_type": "execute_result"
    }
   ],
   "source": [
    "tokens"
   ]
  },
  {
   "cell_type": "markdown",
   "metadata": {},
   "source": [
    "Write a program to propose the five next possible words ranked by frequency using a trigram model. Assign these predictions to a variable that you will call `next_word_predictions`. Write a sorting key that will enable you have a deterministic ranking of the words or bigrams with identical frequencies: When two words have the same frequency, you will sort them by alphabetic order. You can do this with a tuple."
   ]
  },
  {
   "cell_type": "code",
   "execution_count": 207,
   "metadata": {},
   "outputs": [],
   "source": [
    "# Write your code here\n",
    "w1, w2 = tokens[-2], tokens[-1]\n",
    "candidates = [(w3, count) for (t1, t2, w3), count in frequency_trigrams.items() if t1 == w1 and t2 == w2]\n",
    "candidates_sorted = sorted(candidates, key=lambda x: (-x[1], x[0]))\n",
    "next_word_predictions = [w for w, _ in candidates_sorted[:cand_nbr]]"
   ]
  },
  {
   "cell_type": "code",
   "execution_count": 208,
   "metadata": {},
   "outputs": [
    {
     "data": {
      "text/plain": [
       "['stor', 'liten', 'gammal', 'god', 'sådan']"
      ]
     },
     "execution_count": 208,
     "metadata": {},
     "output_type": "execute_result"
    }
   ],
   "source": [
    "next_word_predictions"
   ]
  },
  {
   "cell_type": "markdown",
   "metadata": {},
   "source": [
    "Finally, let us suppose that the user has typed _Det var en g_, rank the five possible candidates. Assign these predictions in a list that you will call `current_word_predictions_2`"
   ]
  },
  {
   "cell_type": "code",
   "execution_count": 209,
   "metadata": {},
   "outputs": [],
   "source": [
    "current_text = \"Det var en g\".lower()"
   ]
  },
  {
   "cell_type": "code",
   "execution_count": 210,
   "metadata": {},
   "outputs": [],
   "source": [
    "# Write your code here\n",
    "w1, w2 = tokens[-2], tokens[-1] # Used as a trigram reference to determine the complete word\n",
    "prefix = current_text.split()[-1]\n",
    "candidates = [(w3, count) \n",
    "              for (t1, t2, w3), count in frequency_trigrams.items() \n",
    "              if t1 == w1 and t2 == w2 and w3.startswith(prefix)] # Iterate through our corpus to find matching trigrams and collect candidates\n",
    "candidates_sorted = sorted(candidates, key=lambda x: (-x[1], x[0])) # Sort each candidate based on first frequency -x[1] and the alphabetical order x[0]\n",
    "current_word_predictions_2 = [w for w, _ in candidates_sorted[:cand_nbr]]"
   ]
  },
  {
   "cell_type": "code",
   "execution_count": 211,
   "metadata": {},
   "outputs": [
    {
     "data": {
      "text/plain": [
       "['gammal', 'god', 'gång', 'ganska', 'glädje']"
      ]
     },
     "execution_count": 211,
     "metadata": {},
     "output_type": "execute_result"
    }
   ],
   "source": [
    "current_word_predictions_2"
   ]
  },
  {
   "cell_type": "markdown",
   "metadata": {},
   "source": [
    "## Turning in your assignment"
   ]
  },
  {
   "cell_type": "markdown",
   "metadata": {},
   "source": [
    "Now your are done with the program. To complete this assignment, you will:\n",
    "1. Write a short individual report on your program. I suggest that you use this structure for your report:\n",
    "      1. Objectives and dataset\n",
    "      2. Method and program structure, where you should outline your program and possibly describe difficult parts. In this section, you will include the __regular expression you used to segment the text__.\n",
    "      3. Results. You will include the __unigram and bigram tables__ for _Det var en gång en katt som hette Nils_ and __two other sentences__. You will also include the results of your __next word prediction__.\n",
    "      4. Conclusion\n",
    "      5. Answer to possible questions\n",
    "2. Execute the Jupyter notebook by Peter Norvig here: <a href=\"http://nbviewer.jupyter.org/url/norvig.com/ipython/How%20to%20Do%20Things%20with%20Words.ipynb\">https://nbviewer.jupyter.org/url/norvig.com/ipython/How to Do Things with Words.ipynb</a>. Just run all the cells and be sure that you understand the code. You will find the data here: <a href=\"http://norvig.com/ngrams/\">http://norvig.com/ngrams/</a>.\n",
    "3. In your report, after the description of your program and conclusion, you will describe one experiment with Norvig's notebook and a __long string of words your will create yourself or copy from a text you like__. You will remove all the punctuation and white spaces from this string. You will set this string in lowercase letters. You will just add a cell at the end of Sect. 7 in Norvig's notebook, where you will use your string and run the notebook cell with the <tt>segment()</tt> and <tt>segment2()</tt> functions. __You will comment the segmentation results you obtained__ with the unigram and bigram models.\n",
    "\n",
    "Submit your report as well as your **notebook** (for archiving purposes) to Canvas: https://canvas.education.lu.se/. To write your report, use Latex. This will probably help you structure your text. You can use the Overleaf online editor (www.overleaf.com). You will then upload a PDF file in Canvas.\n",
    "\n",
    "The submission deadline is September 26, 2025. You will have only three submission attempts. The deadline for the second and third ones are one week after you are noticed of your result."
   ]
  }
 ],
 "metadata": {
  "kernelspec": {
   "display_name": "test-env",
   "language": "python",
   "name": "python3"
  },
  "language_info": {
   "codemirror_mode": {
    "name": "ipython",
    "version": 3
   },
   "file_extension": ".py",
   "mimetype": "text/x-python",
   "name": "python",
   "nbconvert_exporter": "python",
   "pygments_lexer": "ipython3",
   "version": "3.13.5"
  }
 },
 "nbformat": 4,
 "nbformat_minor": 4
}
